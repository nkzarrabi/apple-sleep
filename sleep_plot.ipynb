{
 "cells": [
  {
   "cell_type": "code",
   "execution_count": null,
   "metadata": {},
   "outputs": [
    {
     "ename": "",
     "evalue": "",
     "output_type": "error",
     "traceback": [
      "\u001b[1;31mRunning cells with 'Python 3.12.7' requires the ipykernel package.\n",
      "\u001b[1;31mRun the following command to install 'ipykernel' into the Python environment. \n",
      "\u001b[1;31mCommand: '/opt/homebrew/bin/python3.12 -m pip install ipykernel -U --user --force-reinstall'"
     ]
    }
   ],
   "source": [
    "import pandas as pd\n",
    "import xml.etree.ElementTree as ET\n",
    "\n",
    "import matplotlib\n",
    "import matplotlib.pyplot as plt\n",
    "import matplotlib.dates as mdates\n",
    "\n",
    "plt.rc('savefig', dpi=300)\n",
    "\n",
    "# References\n",
    "# https://www.python-engineer.com/posts/apple-health-data-python/\n",
    "# https://www.relevantmisc.com/r/python/2020/05/26/visualizing-baby-sleep/\n",
    "# https://stackoverflow.com/questions/72989080/how-to-make-plots-in-python-like-the-sleep-schedule-plot-in-ios-health-app"
   ]
  },
  {
   "cell_type": "code",
   "execution_count": null,
   "metadata": {},
   "outputs": [],
   "source": [
    "# Path to the XML file exported form Apple Health app\n",
    "XML_DATA = \"../apple_data/apple_health_export/export.xml\""
   ]
  },
  {
   "cell_type": "code",
   "execution_count": null,
   "metadata": {},
   "outputs": [],
   "source": [
    "# Parse XML file exported from Apple Health app\n",
    "tree = ET.parse(XML_DATA)\n",
    "root = tree.getroot()\n",
    "\n",
    "# Store \"Record\" type data into Pandas.DataFrame\n",
    "records = [i.attrib for i in root.iter(\"Record\")]\n",
    "records_df = pd.DataFrame(records)\n",
    "\n",
    "# Convert datetime format\n",
    "date_col = ['creationDate', 'startDate', 'endDate']\n",
    "records_df[date_col] = records_df[date_col].apply(pd.to_datetime) \n",
    "\n",
    "# Select Sleep Analysis records\n",
    "sleeps_df = records_df.query(\"type == 'HKCategoryTypeIdentifierSleepAnalysis'\")\n",
    "\n",
    "# Cut overnight records into two separate records\n",
    "no_cross = sleeps_df[sleeps_df[\"startDate\"].dt.day == sleeps_df[\"endDate\"].dt.day]\n",
    "cross = sleeps_df[sleeps_df[\"startDate\"].dt.day != sleeps_df[\"endDate\"].dt.day]\n",
    "c1 = cross.copy()\n",
    "c2 = cross.copy()\n",
    "c1[\"endDate\"] = c1[\"startDate\"].apply(lambda x: x.replace(hour=23, minute=59, second=59))\n",
    "c2[\"startDate\"] = c2[\"endDate\"].apply(lambda x: x.replace(hour=0, minute=0, second=0))\n",
    "sleeps_splitted_df = pd.concat([no_cross, c1, c2]).sort_values(\"startDate\")"
   ]
  },
  {
   "cell_type": "code",
   "execution_count": null,
   "metadata": {},
   "outputs": [],
   "source": [
    "# Select plotting starting date\n",
    "# x = sleeps_splitted_df[sleeps_splitted_df[\"startDate\"] > pd.Timestamp(2022, 1, 1).tz_localize(tz=\"US/Central\") ]\n",
    "# x = sleeps_splitted_df[sleeps_splitted_df[\"startDate\"] > pd.Timestamp(2022, 6, 1).tz_localize(tz=\"US/Central\") ]\n",
    "x = sleeps_splitted_df[sleeps_splitted_df[\"startDate\"] > pd.Timestamp(2022, 4, 1).tz_localize(tz=\"US/Central\") ]\n",
    "\n",
    "# Plotting\n",
    "# fig = plt.figure(figsize=(20, 6))  # better for a year\n",
    "fig = plt.figure(figsize=(10, 6))  # better for a few months \n",
    "\n",
    "ax = fig.add_subplot()\n",
    "\n",
    "width = 0.4\n",
    "color_dict = {\"HKCategoryValueSleepAnalysisAsleep\": 'darkturquoise',\n",
    "              \"HKCategoryValueSleepAnalysisInBed\": 'turquoise',\n",
    "              \"HKCategoryValueSleepAnalysisAwake\": \"red\"}\n",
    "alpha_dict = {\"HKCategoryValueSleepAnalysisAsleep\": 1,\n",
    "              \"HKCategoryValueSleepAnalysisInBed\": 0.5,\n",
    "              \"HKCategoryValueSleepAnalysisAwake\": 0.2}\n",
    "\n",
    "for row in x.itertuples(index=False):\n",
    "    # Skip \"Awake\" for plotting\n",
    "    if row.value == \"HKCategoryValueSleepAnalysisAwake\":\n",
    "        continue\n",
    "    \n",
    "    # Timestemp at the begining of the startDate's day\n",
    "    row_date = row.startDate.replace(hour=0, minute=0, second=0)\n",
    "\n",
    "    # Plot rectangle patches ((x0, y0), width, hight)\n",
    "    rect = matplotlib.patches.Rectangle((mdates.date2num(row.startDate.date()), mdates.date2num(row.startDate-row_date)/1000),\n",
    "                                        width,\n",
    "                                        mdates.date2num(row.endDate-row.startDate)/1000,\n",
    "                                        color=color_dict[row.value],\n",
    "                                        alpha=alpha_dict[row.value])\n",
    "    ax.add_patch(rect)\n",
    "\n",
    "# Generate legend\n",
    "legend_patches = [\n",
    "    matplotlib.patches.Patch(color=color_dict[\"HKCategoryValueSleepAnalysisAsleep\"],\n",
    "                             alpha=alpha_dict[\"HKCategoryValueSleepAnalysisAsleep\"],\n",
    "                             label=\"Asleep\"),\n",
    "    matplotlib.patches.Patch(color=color_dict[\"HKCategoryValueSleepAnalysisInBed\"],\n",
    "                             alpha=alpha_dict[\"HKCategoryValueSleepAnalysisInBed\"],\n",
    "                             label=\"In Bed\")\n",
    "]\n",
    "plt.legend(loc=2, handles=legend_patches)\n",
    "\n",
    "# Plot range for current data range\n",
    "plt.xlim(mdates.date2num(x[\"startDate\"].min())-1, mdates.date2num(x[\"endDate\"].max())+1)\n",
    "plt.ylim(1,0)\n",
    "\n",
    "# Set Ticks\n",
    "# plt.gca().yaxis.set_major_formatter(mdates.DateFormatter('%H'))\n",
    "plt.gca().yaxis.set_major_formatter(mdates.DateFormatter('%I %p'))\n",
    "plt.gca().yaxis.set_major_locator(mdates.HourLocator())\n",
    "plt.gca().xaxis.set_major_formatter(mdates.DateFormatter('%m/%d/%Y'))\n",
    "plt.gca().xaxis.set_major_locator(mdates.DayLocator(interval=7))\n",
    "plt.gcf().autofmt_xdate()\n",
    "\n",
    "plt.tight_layout()\n",
    "# plt.savefig(\"sleep_plot.pdf\")\n",
    "plt.savefig(\"sleep_plot@2x.png\")\n"
   ]
  },
  {
   "cell_type": "code",
   "execution_count": null,
   "metadata": {},
   "outputs": [],
   "source": []
  }
 ],
 "metadata": {
  "kernelspec": {
   "display_name": "Python 3",
   "language": "python",
   "name": "python3"
  },
  "language_info": {
   "codemirror_mode": {
    "name": "ipython",
    "version": 3
   },
   "file_extension": ".py",
   "mimetype": "text/x-python",
   "name": "python",
   "nbconvert_exporter": "python",
   "pygments_lexer": "ipython3",
   "version": "3.12.7"
  },
  "orig_nbformat": 4
 },
 "nbformat": 4,
 "nbformat_minor": 2
}
